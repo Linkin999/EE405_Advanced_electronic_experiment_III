{
 "cells": [
  {
   "cell_type": "code",
   "execution_count": 14,
   "metadata": {},
   "outputs": [],
   "source": [
    "import os\n",
    "from PIL import Image\n",
    "\n",
    "def read_images_in_folder(folder_path, image_extension=\".jpg\"):\n",
    "    image_list = []\n",
    "\n",
    "    for root, dirs, files in os.walk(folder_path):\n",
    "        for file in files:\n",
    "            if file.lower().endswith(image_extension):\n",
    "                image_path = os.path.join(root, file)\n",
    "                image_list.append(image_path)\n",
    "\n",
    "    return image_list\n",
    "\n",
    "# 用法示例\n",
    "folder_path = \"datasetII/ASL_Alphabet_Dataset/asl_alphabet_train\"\n",
    "images = read_images_in_folder(folder_path)"
   ]
  },
  {
   "cell_type": "code",
   "execution_count": 15,
   "metadata": {},
   "outputs": [
    {
     "name": "stdout",
     "output_type": "stream",
     "text": [
      "datasetII/ASL_Alphabet_Dataset/asl_alphabet_train\\A\\1.jpg\n"
     ]
    }
   ],
   "source": [
    "print(images[0])"
   ]
  },
  {
   "cell_type": "code",
   "execution_count": 16,
   "metadata": {},
   "outputs": [],
   "source": [
    "import mediapipe as mp\n",
    "import matplotlib.pyplot as plt\n",
    "import cv2\n",
    "import numpy as np\n",
    "\n",
    "mp_drawing = mp.solutions.drawing_utils\n",
    "mp_hands = mp.solutions.hands\n",
    "hands = mp_hands.Hands(\n",
    "    static_image_mode=True,\n",
    "    max_num_hands=2,\n",
    "    min_detection_confidence=0.75)\n",
    "    # min_tracking_confidence=0.75)"
   ]
  },
  {
   "cell_type": "code",
   "execution_count": 17,
   "metadata": {},
   "outputs": [],
   "source": [
    "train_x=[]\n",
    "train_y=[]"
   ]
  },
  {
   "cell_type": "code",
   "execution_count": 18,
   "metadata": {},
   "outputs": [
    {
     "ename": "",
     "evalue": "",
     "output_type": "error",
     "traceback": [
      "\u001b[1;31mThe Kernel crashed while executing code in the the current cell or a previous cell. Please review the code in the cell(s) to identify a possible cause of the failure. Click <a href='https://aka.ms/vscodeJupyterKernelCrash'>here</a> for more info. View Jupyter <a href='command:jupyter.viewOutput'>log</a> for further details."
     ]
    }
   ],
   "source": [
    "for image_path in images:\n",
    "    image = Image.open(image_path)\n",
    "    frame = cv2.cvtColor(frame, cv2.COLOR_BGR2RGB)\n",
    "    frame= cv2.flip(frame,1)\n",
    "    results = hands.process(frame)\n",
    "    ans=results.multi_hand_landmarks\n",
    "    total_one=[]\n",
    "    for hand_landmarks in ans:\n",
    "        for i in range(21):\n",
    "            x=hand_landmarks.landmark[i].x\n",
    "            y=hand_landmarks.landmark[i].y\n",
    "            z=hand_landmarks.landmark[i].z\n",
    "            coordinate=[]\n",
    "            coordinate.append(x)\n",
    "            coordinate.append(y)\n",
    "            coordinate.append(z)\n",
    "            total_one.append(coordinate)\n",
    "\n",
    "    a=np.array(total_one)\n",
    "    b=a.reshape(1,a.shape[0]*a.shape[1])\n",
    "    train_x.append(b)"
   ]
  },
  {
   "cell_type": "code",
   "execution_count": null,
   "metadata": {},
   "outputs": [],
   "source": [
    "for image_path in images:\n",
    "    image_path = image_path.replace(\"ASL_Alphabet_Dataset\", \"\")\n",
    "    if \"A\" in image_path:\n",
    "        train_y.append(0)\n",
    "    elif \"B\" in image_path:\n",
    "        train_y.append(1)\n",
    "    elif \"C\" in image_path:\n",
    "        train_y.append(2)\n",
    "    elif \"D\" in image_path:\n",
    "        train_y.append(3)\n",
    "    elif \"E\" in image_path:\n",
    "        train_y.append(4)\n",
    "    elif \"F\" in image_path:\n",
    "        train_y.append(5)\n",
    "    elif \"G\" in image_path:\n",
    "        train_y.append(7)\n",
    "    elif \"H\" in image_path:\n",
    "        train_y.append(8)\n",
    "    elif \"I\" in image_path:\n",
    "        train_y.append(9)\n",
    "    elif \"J\" in image_path:\n",
    "        train_y.append(10)\n",
    "    elif \"K\" in image_path:\n",
    "        train_y.append(11)\n",
    "    elif \"M\" in image_path:\n",
    "        train_y.append(12)\n",
    "    elif \"N\" in image_path:\n",
    "        train_y.append(13)\n",
    "    elif \"O\" in image_path:\n",
    "        train_y.append(14)\n",
    "    elif \"P\" in image_path:\n",
    "        train_y.append(15)\n",
    "    elif \"Q\" in image_path:\n",
    "        train_y.append(16)\n",
    "    elif \"R\" in image_path:\n",
    "        train_y.append(17)\n",
    "    elif \"S\" in image_path:\n",
    "        train_y.append(18)\n",
    "    elif \"T\" in image_path:\n",
    "        train_y.append(19)\n",
    "    elif \"U\" in image_path:\n",
    "        train_y.append(20)\n",
    "    elif \"V\" in image_path:\n",
    "        train_y.append(21)\n",
    "    elif \"W\" in image_path:\n",
    "        train_y.append(22)\n",
    "    elif \"S\" in image_path:\n",
    "        train_y.append(23)\n",
    "    elif \"Y\" in image_path:\n",
    "        train_y.append(24)\n",
    "    elif \"Z\" in image_path:\n",
    "        train_y.append(25)\n",
    "    elif \"del\" in image_path:\n",
    "        train_y.append(26)\n",
    "    elif \"nothing\" in image_path:\n",
    "        train_y.append(27)\n",
    "    else:\n",
    "        train_y.append(28)"
   ]
  },
  {
   "cell_type": "code",
   "execution_count": null,
   "metadata": {},
   "outputs": [],
   "source": [
    "train_x=np.array(train_x)\n",
    "train_y=np.array(train_y)\n",
    "print(train_x.shape)\n",
    "print(train_y.shape)"
   ]
  },
  {
   "cell_type": "code",
   "execution_count": null,
   "metadata": {},
   "outputs": [],
   "source": [
    "folder_path_test= \"datasetII/ASL_Alphabet_Dataset/asl_alphabet_test\"\n",
    "images_test= read_images_in_folder(folder_path_test)"
   ]
  },
  {
   "cell_type": "code",
   "execution_count": null,
   "metadata": {},
   "outputs": [],
   "source": [
    "test_x=[]\n",
    "test_y=[]"
   ]
  },
  {
   "cell_type": "code",
   "execution_count": null,
   "metadata": {},
   "outputs": [],
   "source": [
    "for image_path in images_test:\n",
    "    image = Image.open(image_path)\n",
    "    frame = cv2.cvtColor(frame, cv2.COLOR_BGR2RGB)\n",
    "    frame= cv2.flip(frame,1)\n",
    "    results = hands.process(frame)\n",
    "    ans=results.multi_hand_landmarks\n",
    "    total_one=[]\n",
    "    for hand_landmarks in ans:\n",
    "        for i in range(21):\n",
    "            x=hand_landmarks.landmark[i].x\n",
    "            y=hand_landmarks.landmark[i].y\n",
    "            z=hand_landmarks.landmark[i].z\n",
    "            coordinate=[]\n",
    "            coordinate.append(x)\n",
    "            coordinate.append(y)\n",
    "            coordinate.append(z)\n",
    "            total_one.append(coordinate)\n",
    "\n",
    "    a=np.array(total_one)\n",
    "    b=a.reshape(1,a.shape[0]*a.shape[1])\n",
    "    test_x.append(b)"
   ]
  },
  {
   "cell_type": "code",
   "execution_count": null,
   "metadata": {},
   "outputs": [],
   "source": [
    "for image_path in images_test:\n",
    "    if \"A_test\" in image_path:\n",
    "        test_y.append(0)\n",
    "    elif \"B_test\" in image_path:\n",
    "        test_y.append(1)\n",
    "    elif \"C_test\" in image_path:\n",
    "        test_y.append(2)\n",
    "    elif \"D_test\" in image_path:\n",
    "        test_y.append(3)\n",
    "    elif \"E_test\" in image_path:\n",
    "        test_y.append(4)\n",
    "    elif \"F_test\" in image_path:\n",
    "        test_y.append(5)\n",
    "    elif \"G_test\" in image_path:\n",
    "        test_y.append(7)\n",
    "    elif \"H_test\" in image_path:\n",
    "        test_y.append(8)\n",
    "    elif \"I_test\" in image_path:\n",
    "        test_y.append(9)\n",
    "    elif \"J_test\" in image_path:\n",
    "        test_y.append(10)\n",
    "    elif \"K_test\" in image_path:\n",
    "        test_y.append(11)\n",
    "    elif \"M_test\" in image_path:\n",
    "        test_y.append(12)\n",
    "    elif \"N_test\" in image_path:\n",
    "        test_y.append(13)\n",
    "    elif \"O_test\" in image_path:\n",
    "        test_y.append(14)\n",
    "    elif \"P_test\" in image_path:\n",
    "        test_y.append(15)\n",
    "    elif \"Q_test\" in image_path:\n",
    "        test_y.append(16)\n",
    "    elif \"R_test\" in image_path:\n",
    "        test_y.append(17)\n",
    "    elif \"S_test\" in image_path:\n",
    "        test_y.append(18)\n",
    "    elif \"T_test\" in image_path:\n",
    "        test_y.append(19)\n",
    "    elif \"U_test\" in image_path:\n",
    "        test_y.append(20)\n",
    "    elif \"V_test\" in image_path:\n",
    "        test_y.append(21)\n",
    "    elif \"W_test\" in image_path:\n",
    "        test_y.append(22)\n",
    "    elif \"S_test\" in image_path:\n",
    "        test_y.append(23)\n",
    "    elif \"Y_test\" in image_path:\n",
    "        test_y.append(24)\n",
    "    elif \"Z_test\" in image_path:\n",
    "        test_y.append(25)\n",
    "    elif \"del_test\" in image_path:\n",
    "        test_y.append(26)\n",
    "    elif \"nothing_test\" in image_path:\n",
    "        test_y.append(27)\n",
    "    else:\n",
    "        test_y.append(28)"
   ]
  },
  {
   "cell_type": "code",
   "execution_count": null,
   "metadata": {},
   "outputs": [],
   "source": [
    "test_x_x=np.array(test_x)\n",
    "test_y=np.array(test_y)\n",
    "print(test_x.shape)\n",
    "print(test_y.shape)"
   ]
  },
  {
   "cell_type": "code",
   "execution_count": null,
   "metadata": {},
   "outputs": [],
   "source": [
    "# trainning GaussianNB Model\n",
    "from sklearn.naive_bayes import GaussianNB\n",
    "from sklearn import metrics\n",
    "model_GaussianNB = GaussianNB()\n",
    "model_GaussianNB.fit(train_x,train_y)\n",
    "\n",
    "\n",
    "#Evaluating GaussianNB model\n",
    "from sklearn.metrics import confusion_matrix,accuracy_score\n",
    "y_prediction_GaussianNB=model_GaussianNB.predict_proba(test_x)\n",
    "threshold=0.5\n",
    "y_prediction_class_GaussianNB=y_prediction_GaussianNB[:,1]>threshold\n",
    "tn_GaussianNB,fp_GaussianNB,fn_GaussianNB,tp_GaussianNB=confusion_matrix(test_y,y_prediction_class_GaussianNB).ravel()\n",
    "accuracy_GaussianNB=(tp_GaussianNB+tn_GaussianNB)/(tp_GaussianNB+fp_GaussianNB+tn_GaussianNB+fn_GaussianNB)\n",
    "print('GaussianNB accuracy= ', accuracy_GaussianNB)\n",
    "precision_GaussianNB=tp_GaussianNB/(tp_GaussianNB+fp_GaussianNB)\n",
    "print('GaussianNB precision= ', precision_GaussianNB)\n",
    "recall_GaussianNB=tp_GaussianNB/(tp_GaussianNB+fn_GaussianNB)\n",
    "print('GaussianNB recall= ', recall_GaussianNB)\n",
    "beta1_GaussianNB=1\n",
    "F1_score_GaussianNB=(1+beta1_GaussianNB*beta1_GaussianNB)*(precision_GaussianNB*recall_GaussianNB)/(beta1_GaussianNB*beta1_GaussianNB*precision_GaussianNB+recall_GaussianNB)\n",
    "print('GaussianNB F1_score= ', F1_score_GaussianNB)\n",
    "beta2_GaussianNB=2\n",
    "F2_score_GaussianNB=(1+beta2_GaussianNB*beta2_GaussianNB)*(precision_GaussianNB*recall_GaussianNB)/(beta2_GaussianNB*beta2_GaussianNB*precision_GaussianNB+recall_GaussianNB)\n",
    "print('GaussianNB F2_score= ', F2_score_GaussianNB)\n",
    "tpr_GaussianNB=tp_GaussianNB/(tp_GaussianNB+fn_GaussianNB)\n",
    "print('GaussianNB TPR= ', tpr_GaussianNB)\n",
    "fpr_GaussianNB=fp_GaussianNB/(tn_GaussianNB+fp_GaussianNB)\n",
    "print('GaussianNB FPR= ', fpr_GaussianNB)\n",
    "\n",
    "fper_GaussianNB,tper_GaussianNB,thresholds_GaussianNB=metrics.roc_curve(Y_test,y_prediction_GaussianNB[:,1])\n",
    "plt.plot(fper_GaussianNB,tper_GaussianNB,color='orange',label='ROC')\n",
    "plt.plot([0, 1], [0, 1], color='darkblue', linestyle='--')\n",
    "plt.xlabel('False Positive Rate')\n",
    "plt.ylabel('True Positive Rate')\n",
    "plt.title('Receiver Operating Characteristic (ROC) Curve')\n",
    "plt.legend()\n",
    "plt.show()"
   ]
  },
  {
   "cell_type": "code",
   "execution_count": 3,
   "metadata": {},
   "outputs": [],
   "source": [
    "frame=plt.imread('hand.jpg')\n",
    "frame = cv2.cvtColor(frame, cv2.COLOR_BGR2RGB)\n",
    "frame= cv2.flip(frame,1)\n",
    "results = hands.process(frame)\n",
    "ans=results.multi_hand_landmarks\n",
    "total_one=[]\n",
    "for hand_landmarks in ans:\n",
    "    for i in range(21):\n",
    "        x=hand_landmarks.landmark[i].x\n",
    "        y=hand_landmarks.landmark[i].y\n",
    "        z=hand_landmarks.landmark[i].z\n",
    "        coordinate=[]\n",
    "        coordinate.append(x)\n",
    "        coordinate.append(y)\n",
    "        coordinate.append(z)\n",
    "        total_one.append(coordinate)\n",
    "\n",
    "a=np.array(total_one)\n",
    "b=a.reshape(1,a.shape[0]*a.shape[1])"
   ]
  },
  {
   "cell_type": "code",
   "execution_count": 4,
   "metadata": {},
   "outputs": [
    {
     "data": {
      "text/plain": [
       "(1, 63)"
      ]
     },
     "execution_count": 4,
     "metadata": {},
     "output_type": "execute_result"
    }
   ],
   "source": [
    "b.shape"
   ]
  }
 ],
 "metadata": {
  "kernelspec": {
   "display_name": "base",
   "language": "python",
   "name": "python3"
  },
  "language_info": {
   "codemirror_mode": {
    "name": "ipython",
    "version": 3
   },
   "file_extension": ".py",
   "mimetype": "text/x-python",
   "name": "python",
   "nbconvert_exporter": "python",
   "pygments_lexer": "ipython3",
   "version": "3.9.12"
  }
 },
 "nbformat": 4,
 "nbformat_minor": 2
}
